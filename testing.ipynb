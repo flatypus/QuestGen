{
 "cells": [
  {
   "cell_type": "code",
   "execution_count": 2,
   "metadata": {},
   "outputs": [],
   "source": [
    "import math\n",
    "import random\n",
    "import collections\n"
   ]
  },
  {
   "cell_type": "code",
   "execution_count": 3,
   "metadata": {},
   "outputs": [],
   "source": [
    "graph = {\n",
    "    0: {\"head\": [], \"child\": [1, 2], \"name\": \"addition and subtraction\"},\n",
    "    1: {\"head\": [0], \"child\": [3, 4], \"name\": \"multiplication\"},\n",
    "    2: {\"head\": [0], \"child\": [5, 6], \"name\": \"division\"},\n",
    "    3: {\"head\": [1], \"child\": [], \"name\": \"exponents\"},\n",
    "    4: {\"head\": [1], \"child\": [], \"name\": \"square roots\"},\n",
    "    5: {\"head\": [2], \"child\": [], \"name\": \"fractions\"},\n",
    "    6: {\"head\": [2], \"child\": [], \"name\": \"percentages\"},\n",
    "}\n",
    "\n",
    "question_types = len(graph)\n",
    "\n",
    "# this is a skill tree\n",
    "# when doing a question with a type of 3, if they fail that question they will be asked a question with a type of 1,\n",
    "# since 1 is the head of 3\n",
    "\n",
    "\n",
    "# skill_data dict is used to store the data of the skill tree\n",
    "# default dicts default their value to 0 when accessing a key that doesn't exist\n",
    "skill_data = collections.defaultdict(int)\n"
   ]
  },
  {
   "cell_type": "code",
   "execution_count": 8,
   "metadata": {},
   "outputs": [],
   "source": [
    "question_examples = {\n",
    "    1: [[\"A dog walks with an average velocity of 1.5m/s. What is the magnitude of the dog’s displacement?\", \"15\"],\n",
    "        [\"Vectors and Scalars\", \"Reference Frames\", \"Average Speed\", \"Solving for time\", \"Acceleration\"]],\n",
    "    2: [[\"An object’s position in meters and motion in meters per second can be described by x=-18-3t-t^2 \\\n",
    "        during the time interval 0<=t<=3 seconds. Which of the following statements is the best description of the object’s motion?\",\n",
    "        \"The initial position of the object is -18 meters.\"], [\"Intro to vectors and scalars\", \"Introduction to reference frames\", \"Calculating average velocity or speed\", \"Solving for time Displacement from time and velocity\", \"Acceleration\"]],\n",
    "    3: [[\"A ball is rolling up a ramp with an initial velocity of 4.0 m/s and a constant acceleration of -2m/s^2. What can be said about the ball’s direction of travel and speed at t=5 seconds?\",\n",
    "         \"The ball’s direction is negative, and the speed is increasing.\"], [\"Intro to vectors and scalars\", \"Introduction to reference frames\", \"Calculating average velocity or speed\", \"Solving for time Displacement from time and velocity\", \"Acceleration\"]],\n",
    "}\n",
    "\n",
    "class_grouping = {\n",
    "    \"AP Physics 1\": {\n",
    "        \"value\": 10,\n",
    "        \"children\": [{\n",
    "            \"Kinematics\": {\n",
    "                \"value\": 2,\n",
    "                \"children\": {\n",
    "                    \"Position, Velocity, and Acceleration\": 2,\n",
    "                    \"Representations of Motion\": 2\n",
    "                }\n",
    "            },\n",
    "        }]\n",
    "    }\n",
    "}\n"
   ]
  },
  {
   "cell_type": "code",
   "execution_count": 5,
   "metadata": {},
   "outputs": [],
   "source": []
  },
  {
   "cell_type": "code",
   "execution_count": 6,
   "metadata": {},
   "outputs": [
    {
     "name": "stdout",
     "output_type": "stream",
     "text": [
      "diagnostic test\n",
      "correct\n",
      "correct\n",
      "incorrect\n",
      "correct\n",
      "correct\n",
      "Sorry, your answer was invalid (could not convert string to float: '1234e')\n",
      "You have 2 tries left\n",
      "incorrect\n",
      "incorrect\n",
      "correct\n",
      "correct\n",
      "correct\n",
      "Student is struggling with 'addition and subtraction'\n",
      "Student is doing well with 'multiplication'\n",
      "Student is struggling with 'division'\n",
      "Student is doing ok with 'exponents'\n",
      "Student is doing well with 'square roots'\n",
      "Student is doing well with 'fractions'\n",
      "Student is struggling with 'percentages'\n",
      "Debug: defaultdict(<class 'int'>, {1: 3, 0: -1, 4: 2, 6: -1, 2: -2, 5: 1, 3: 0})\n"
     ]
    }
   ],
   "source": [
    "diagnostic_test()\n",
    "evaluate_results(skill_data)\n",
    "print(f\"Debug: {skill_data}\")\n"
   ]
  },
  {
   "cell_type": "code",
   "execution_count": 7,
   "metadata": {},
   "outputs": [
    {
     "name": "stdout",
     "output_type": "stream",
     "text": [
      "defaultdict(<class 'int'>, {1: 3, 0: -1, 4: 2, 6: -1, 2: -2, 5: 1, 3: 0})\n",
      "Recommended question type: division\n",
      "correct\n",
      "Recommended question type: addition and subtraction\n",
      "correct\n",
      "Recommended question type: percentages\n",
      "incorrect\n",
      "Recommended question type: percentages\n",
      "correct\n",
      "Recommended question type: division\n",
      "correct\n",
      "Student is doing ok with 'addition and subtraction'\n",
      "Student is doing well with 'multiplication'\n",
      "Student is struggling with 'division'\n",
      "Student is doing ok with 'exponents'\n",
      "Student is doing well with 'square roots'\n",
      "Student is doing well with 'fractions'\n",
      "Student is struggling with 'percentages'\n"
     ]
    }
   ],
   "source": [
    "evaluate_results(skill_data)\n"
   ]
  }
 ],
 "metadata": {
  "kernelspec": {
   "display_name": "Python 3.10.5 64-bit",
   "language": "python",
   "name": "python3"
  },
  "language_info": {
   "codemirror_mode": {
    "name": "ipython",
    "version": 3
   },
   "file_extension": ".py",
   "mimetype": "text/x-python",
   "name": "python",
   "nbconvert_exporter": "python",
   "pygments_lexer": "ipython3",
   "version": "3.10.5"
  },
  "orig_nbformat": 4,
  "vscode": {
   "interpreter": {
    "hash": "761ba43eaf90f048b8b3bdc2b75b132483902ea7747fd8c8bb263189a53e2060"
   }
  }
 },
 "nbformat": 4,
 "nbformat_minor": 2
}
